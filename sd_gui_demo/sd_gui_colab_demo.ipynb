{
 "cells": [
  {
   "cell_type": "code",
   "execution_count": null,
   "id": "8e5a7c2a-717e-4e9a-9b2c-e924b52ae9c0",
   "metadata": {},
   "outputs": [],
   "source": [
    "!pip install -q streamlit\n",
    "!npm install localtunnel\n"
   ]
  },
  {
   "cell_type": "code",
   "execution_count": null,
   "id": "adf3e0b3-6ff9-4918-a010-ab024e6b48fa",
   "metadata": {},
   "outputs": [],
   "source": [
    "#copypasta and create \n",
    "\n",
    "%%writefile app.py\n",
    "\n",
    "### BACKEND\n",
    "\n",
    "from PIL import Image\n",
    "from tqdm.auto import tqdm\n",
    "import torch\n",
    "from transformers import CLIPTextModel, CLIPTokenizer\n",
    "from diffusers import AutoencoderKL, UNet2DConditionModel, PNDMScheduler, LMSDiscreteScheduler, StableDiffusionPipeline, UniPCMultistepScheduler\n",
    "from torchvision import transforms\n",
    "\n",
    "torch_device = \"cuda\" if torch.cuda.is_available() else (\"mps\" if torch.mps.is_available() else \"cpu\")\n",
    "\n",
    "torch_dtype = torch.float16 if torch_device in [\"cuda\", \"mps\"] else torch.float32\n",
    "\n",
    "pipe = StableDiffusionPipeline.from_pretrained(\n",
    "    \"stable-diffusion-v1-5/stable-diffusion-v1-5\", \n",
    "    torch_dtype=torch_dtype, \n",
    "    use_safetensors=True, \n",
    "    safety_checker = None).to(torch_device)\n",
    "\n",
    "pipe.scheduler = UniPCMultistepScheduler.from_config(pipe.scheduler.config)\n",
    "\n",
    "pipe.enable_model_cpu_offload()\n",
    "\n",
    "def StableDiffusion(uncond_embeddings, text_embeddings, height, width, num_inference_steps, guidance_scale, seed):\n",
    "    batch_size=1\n",
    "\n",
    "    generator = None\n",
    "\n",
    "    if seed:\n",
    "        generator=torch.manual_seed(seed)\n",
    "    \n",
    "    output = pipe(\n",
    "        prompt = text_embeddings,\n",
    "        negative_prompt = uncond_embeddings,\n",
    "        height = height,\n",
    "        width = width,\n",
    "        num_inference_steps = num_inference_steps,\n",
    "        guidance_scale = guidance_scale,\n",
    "        generator = generator\n",
    "    ).images[0]\n",
    "    return output\n",
    "\n",
    "\n",
    "\n",
    "### FRONTEND\n",
    "import streamlit as st\n",
    "import random\n",
    "from PIL import Image\n",
    "import io\n",
    "\n",
    "st.title(\"Image Generator App\")\n",
    "\n",
    "# Input fields\n",
    "prompt = st.text_input(\"Prompt\", value=\"\").split(',')\n",
    "negative_prompt = st.text_input(\"Negative Prompt\", value=\"\").split(',')\n",
    "height = st.number_input(\"Height\", min_value=1, max_value=1024, value=512)\n",
    "width = st.number_input(\"Width\", min_value=1, max_value=1024, value=512)\n",
    "num_inference_steps = st.number_input(\"Number of Inference Steps\", min_value=1, max_value=100, value=50)\n",
    "guidance_scale = st.slider(\"Guidance Scale\", min_value=1.0, max_value=50.0, value=7.5)\n",
    "seed = st.number_input(\"Seed\", min_value=0, value=42)\n",
    "\n",
    "# Generate button\n",
    "if st.button(\"Generate Image\"):\n",
    "    # Generate the image\n",
    "    generated_image = StableDiffusion(uncond_embeddings=negative_prompt, \n",
    "                                      text_embeddings=prompt, \n",
    "                                      height=height, \n",
    "                                      width=width, \n",
    "                                      num_inference_steps=num_inference_steps, \n",
    "                                      guidance_scale=guidance_scale, \n",
    "                                      seed=seed, \n",
    "                                      image=False)\n",
    "\n",
    "    # Display the generated image\n",
    "    st.image(generated_image, caption=\"Generated Image\", use_column_width=True)\n",
    "\n",
    "# Note about the placeholder function\n",
    "st.markdown(\"\"\"\n",
    "I made this in like 5 minutes don't look at me.\n",
    "\"\"\")"
   ]
  },
  {
   "cell_type": "markdown",
   "id": "6e440172-ed43-4d95-a2fe-16d7fe563cab",
   "metadata": {},
   "source": [
    "# HOW TO RUN THE GUI:\n",
    "Run this next cell, and then click the link generated. When it asks for a password, copy and paste the printed IP address and click \"enter\". IT should now work."
   ]
  },
  {
   "cell_type": "code",
   "execution_count": null,
   "id": "c49dd1ec-4184-42b4-956d-05eafddd72b9",
   "metadata": {},
   "outputs": [],
   "source": [
    "!streamlit run app.py &>/content/logs.txt & npx localtunnel --port 8501 & curl ipv4.icanhazip.com\n"
   ]
  }
 ],
 "metadata": {
  "kernelspec": {
   "display_name": "RF-demos",
   "language": "python",
   "name": "rf-demos"
  },
  "language_info": {
   "codemirror_mode": {
    "name": "ipython",
    "version": 3
   },
   "file_extension": ".py",
   "mimetype": "text/x-python",
   "name": "python",
   "nbconvert_exporter": "python",
   "pygments_lexer": "ipython3",
   "version": "3.10.12"
  }
 },
 "nbformat": 4,
 "nbformat_minor": 5
}
